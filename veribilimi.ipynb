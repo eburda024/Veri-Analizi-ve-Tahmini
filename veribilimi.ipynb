{
  "nbformat": 4,
  "nbformat_minor": 0,
  "metadata": {
    "colab": {
      "provenance": []
    },
    "kernelspec": {
      "name": "python3",
      "display_name": "Python 3"
    },
    "language_info": {
      "name": "python"
    }
  },
  "cells": [
    {
      "cell_type": "markdown",
      "source": [
        "***Yunus Emre Kökboyu***"
      ],
      "metadata": {
        "id": "9kWeTt90ODa6"
      }
    },
    {
      "cell_type": "code",
      "source": [],
      "metadata": {
        "id": "r3GNDXe9nBBV"
      },
      "execution_count": null,
      "outputs": []
    },
    {
      "cell_type": "markdown",
      "source": [
        "# **Gerekli Yüklemeleri Yapıyoruz...**"
      ],
      "metadata": {
        "id": "h_Bi3MWEMSRi"
      }
    },
    {
      "cell_type": "markdown",
      "source": [
        "Önemli not Kullanılan veri seti Kaggle sitesinden alınmıştır."
      ],
      "metadata": {
        "id": "XtTj8aI5NYBn"
      }
    },
    {
      "cell_type": "markdown",
      "source": [
        "[Veri Seti linki 16-04-2024](https://www.kaggle.com/datasets/chopper53/data-engineer-salary-in-2024/data)"
      ],
      "metadata": {
        "id": "5xI837BMNhhL"
      }
    },
    {
      "cell_type": "code",
      "execution_count": null,
      "metadata": {
        "id": "fG2FWogFTGYB"
      },
      "outputs": [],
      "source": [
        "import pandas as pd\n",
        "import seaborn as sns\n",
        "import numpy as npr\n",
        "import matplotlib.pyplot as plt\n",
        "\n",
        "from sklearn.model_selection import train_test_split\n",
        "from sklearn.linear_model import LinearRegression\n",
        "from sklearn.preprocessing import LabelEncoder\n",
        "from sklearn.metrics import mean_absolute_error\n",
        "from sklearn.metrics import mean_squared_error\n"
      ]
    },
    {
      "cell_type": "markdown",
      "source": [
        "# **Veri setimizi Yüklüyoruz...**"
      ],
      "metadata": {
        "id": "YZ8XdQgEDMmL"
      }
    },
    {
      "cell_type": "code",
      "source": [
        "df = pd.read_csv(\"/content/salaries (2).csv\")\n",
        "df.head(10)"
      ],
      "metadata": {
        "colab": {
          "base_uri": "https://localhost:8080/",
          "height": 591
        },
        "id": "Q72qgcsVUNeZ",
        "outputId": "96e20b74-2396-4158-b9cd-a9864946c1a6"
      },
      "execution_count": null,
      "outputs": [
        {
          "output_type": "execute_result",
          "data": {
            "text/plain": [
              "   work_year experience_level employment_type                  job_title  \\\n",
              "0       2024               SE              FT                AI Engineer   \n",
              "1       2024               SE              FT                AI Engineer   \n",
              "2       2024               SE              FT              Data Engineer   \n",
              "3       2024               SE              FT              Data Engineer   \n",
              "4       2024               SE              FT  Machine Learning Engineer   \n",
              "5       2024               SE              FT  Machine Learning Engineer   \n",
              "6       2024               MI              FT                ML Engineer   \n",
              "7       2024               MI              FT                ML Engineer   \n",
              "8       2024               EN              FT               Data Analyst   \n",
              "9       2024               EN              FT               Data Analyst   \n",
              "\n",
              "   salary salary_currency  salary_in_usd employee_residence  remote_ratio  \\\n",
              "0  202730             USD         202730                 US             0   \n",
              "1   92118             USD          92118                 US             0   \n",
              "2  130500             USD         130500                 US             0   \n",
              "3   96000             USD          96000                 US             0   \n",
              "4  190000             USD         190000                 US             0   \n",
              "5  160000             USD         160000                 US             0   \n",
              "6  400000             USD         400000                 US             0   \n",
              "7   65000             USD          65000                 US             0   \n",
              "8  101520             USD         101520                 US             0   \n",
              "9   45864             USD          45864                 US             0   \n",
              "\n",
              "  company_location company_size  \n",
              "0               US            M  \n",
              "1               US            M  \n",
              "2               US            M  \n",
              "3               US            M  \n",
              "4               US            M  \n",
              "5               US            M  \n",
              "6               US            M  \n",
              "7               US            M  \n",
              "8               US            M  \n",
              "9               US            M  "
            ],
            "text/html": [
              "\n",
              "  <div id=\"df-3535884d-3b60-42b6-b5d7-8c4adc4b64eb\" class=\"colab-df-container\">\n",
              "    <div>\n",
              "<style scoped>\n",
              "    .dataframe tbody tr th:only-of-type {\n",
              "        vertical-align: middle;\n",
              "    }\n",
              "\n",
              "    .dataframe tbody tr th {\n",
              "        vertical-align: top;\n",
              "    }\n",
              "\n",
              "    .dataframe thead th {\n",
              "        text-align: right;\n",
              "    }\n",
              "</style>\n",
              "<table border=\"1\" class=\"dataframe\">\n",
              "  <thead>\n",
              "    <tr style=\"text-align: right;\">\n",
              "      <th></th>\n",
              "      <th>work_year</th>\n",
              "      <th>experience_level</th>\n",
              "      <th>employment_type</th>\n",
              "      <th>job_title</th>\n",
              "      <th>salary</th>\n",
              "      <th>salary_currency</th>\n",
              "      <th>salary_in_usd</th>\n",
              "      <th>employee_residence</th>\n",
              "      <th>remote_ratio</th>\n",
              "      <th>company_location</th>\n",
              "      <th>company_size</th>\n",
              "    </tr>\n",
              "  </thead>\n",
              "  <tbody>\n",
              "    <tr>\n",
              "      <th>0</th>\n",
              "      <td>2024</td>\n",
              "      <td>SE</td>\n",
              "      <td>FT</td>\n",
              "      <td>AI Engineer</td>\n",
              "      <td>202730</td>\n",
              "      <td>USD</td>\n",
              "      <td>202730</td>\n",
              "      <td>US</td>\n",
              "      <td>0</td>\n",
              "      <td>US</td>\n",
              "      <td>M</td>\n",
              "    </tr>\n",
              "    <tr>\n",
              "      <th>1</th>\n",
              "      <td>2024</td>\n",
              "      <td>SE</td>\n",
              "      <td>FT</td>\n",
              "      <td>AI Engineer</td>\n",
              "      <td>92118</td>\n",
              "      <td>USD</td>\n",
              "      <td>92118</td>\n",
              "      <td>US</td>\n",
              "      <td>0</td>\n",
              "      <td>US</td>\n",
              "      <td>M</td>\n",
              "    </tr>\n",
              "    <tr>\n",
              "      <th>2</th>\n",
              "      <td>2024</td>\n",
              "      <td>SE</td>\n",
              "      <td>FT</td>\n",
              "      <td>Data Engineer</td>\n",
              "      <td>130500</td>\n",
              "      <td>USD</td>\n",
              "      <td>130500</td>\n",
              "      <td>US</td>\n",
              "      <td>0</td>\n",
              "      <td>US</td>\n",
              "      <td>M</td>\n",
              "    </tr>\n",
              "    <tr>\n",
              "      <th>3</th>\n",
              "      <td>2024</td>\n",
              "      <td>SE</td>\n",
              "      <td>FT</td>\n",
              "      <td>Data Engineer</td>\n",
              "      <td>96000</td>\n",
              "      <td>USD</td>\n",
              "      <td>96000</td>\n",
              "      <td>US</td>\n",
              "      <td>0</td>\n",
              "      <td>US</td>\n",
              "      <td>M</td>\n",
              "    </tr>\n",
              "    <tr>\n",
              "      <th>4</th>\n",
              "      <td>2024</td>\n",
              "      <td>SE</td>\n",
              "      <td>FT</td>\n",
              "      <td>Machine Learning Engineer</td>\n",
              "      <td>190000</td>\n",
              "      <td>USD</td>\n",
              "      <td>190000</td>\n",
              "      <td>US</td>\n",
              "      <td>0</td>\n",
              "      <td>US</td>\n",
              "      <td>M</td>\n",
              "    </tr>\n",
              "    <tr>\n",
              "      <th>5</th>\n",
              "      <td>2024</td>\n",
              "      <td>SE</td>\n",
              "      <td>FT</td>\n",
              "      <td>Machine Learning Engineer</td>\n",
              "      <td>160000</td>\n",
              "      <td>USD</td>\n",
              "      <td>160000</td>\n",
              "      <td>US</td>\n",
              "      <td>0</td>\n",
              "      <td>US</td>\n",
              "      <td>M</td>\n",
              "    </tr>\n",
              "    <tr>\n",
              "      <th>6</th>\n",
              "      <td>2024</td>\n",
              "      <td>MI</td>\n",
              "      <td>FT</td>\n",
              "      <td>ML Engineer</td>\n",
              "      <td>400000</td>\n",
              "      <td>USD</td>\n",
              "      <td>400000</td>\n",
              "      <td>US</td>\n",
              "      <td>0</td>\n",
              "      <td>US</td>\n",
              "      <td>M</td>\n",
              "    </tr>\n",
              "    <tr>\n",
              "      <th>7</th>\n",
              "      <td>2024</td>\n",
              "      <td>MI</td>\n",
              "      <td>FT</td>\n",
              "      <td>ML Engineer</td>\n",
              "      <td>65000</td>\n",
              "      <td>USD</td>\n",
              "      <td>65000</td>\n",
              "      <td>US</td>\n",
              "      <td>0</td>\n",
              "      <td>US</td>\n",
              "      <td>M</td>\n",
              "    </tr>\n",
              "    <tr>\n",
              "      <th>8</th>\n",
              "      <td>2024</td>\n",
              "      <td>EN</td>\n",
              "      <td>FT</td>\n",
              "      <td>Data Analyst</td>\n",
              "      <td>101520</td>\n",
              "      <td>USD</td>\n",
              "      <td>101520</td>\n",
              "      <td>US</td>\n",
              "      <td>0</td>\n",
              "      <td>US</td>\n",
              "      <td>M</td>\n",
              "    </tr>\n",
              "    <tr>\n",
              "      <th>9</th>\n",
              "      <td>2024</td>\n",
              "      <td>EN</td>\n",
              "      <td>FT</td>\n",
              "      <td>Data Analyst</td>\n",
              "      <td>45864</td>\n",
              "      <td>USD</td>\n",
              "      <td>45864</td>\n",
              "      <td>US</td>\n",
              "      <td>0</td>\n",
              "      <td>US</td>\n",
              "      <td>M</td>\n",
              "    </tr>\n",
              "  </tbody>\n",
              "</table>\n",
              "</div>\n",
              "    <div class=\"colab-df-buttons\">\n",
              "\n",
              "  <div class=\"colab-df-container\">\n",
              "    <button class=\"colab-df-convert\" onclick=\"convertToInteractive('df-3535884d-3b60-42b6-b5d7-8c4adc4b64eb')\"\n",
              "            title=\"Convert this dataframe to an interactive table.\"\n",
              "            style=\"display:none;\">\n",
              "\n",
              "  <svg xmlns=\"http://www.w3.org/2000/svg\" height=\"24px\" viewBox=\"0 -960 960 960\">\n",
              "    <path d=\"M120-120v-720h720v720H120Zm60-500h600v-160H180v160Zm220 220h160v-160H400v160Zm0 220h160v-160H400v160ZM180-400h160v-160H180v160Zm440 0h160v-160H620v160ZM180-180h160v-160H180v160Zm440 0h160v-160H620v160Z\"/>\n",
              "  </svg>\n",
              "    </button>\n",
              "\n",
              "  <style>\n",
              "    .colab-df-container {\n",
              "      display:flex;\n",
              "      gap: 12px;\n",
              "    }\n",
              "\n",
              "    .colab-df-convert {\n",
              "      background-color: #E8F0FE;\n",
              "      border: none;\n",
              "      border-radius: 50%;\n",
              "      cursor: pointer;\n",
              "      display: none;\n",
              "      fill: #1967D2;\n",
              "      height: 32px;\n",
              "      padding: 0 0 0 0;\n",
              "      width: 32px;\n",
              "    }\n",
              "\n",
              "    .colab-df-convert:hover {\n",
              "      background-color: #E2EBFA;\n",
              "      box-shadow: 0px 1px 2px rgba(60, 64, 67, 0.3), 0px 1px 3px 1px rgba(60, 64, 67, 0.15);\n",
              "      fill: #174EA6;\n",
              "    }\n",
              "\n",
              "    .colab-df-buttons div {\n",
              "      margin-bottom: 4px;\n",
              "    }\n",
              "\n",
              "    [theme=dark] .colab-df-convert {\n",
              "      background-color: #3B4455;\n",
              "      fill: #D2E3FC;\n",
              "    }\n",
              "\n",
              "    [theme=dark] .colab-df-convert:hover {\n",
              "      background-color: #434B5C;\n",
              "      box-shadow: 0px 1px 3px 1px rgba(0, 0, 0, 0.15);\n",
              "      filter: drop-shadow(0px 1px 2px rgba(0, 0, 0, 0.3));\n",
              "      fill: #FFFFFF;\n",
              "    }\n",
              "  </style>\n",
              "\n",
              "    <script>\n",
              "      const buttonEl =\n",
              "        document.querySelector('#df-3535884d-3b60-42b6-b5d7-8c4adc4b64eb button.colab-df-convert');\n",
              "      buttonEl.style.display =\n",
              "        google.colab.kernel.accessAllowed ? 'block' : 'none';\n",
              "\n",
              "      async function convertToInteractive(key) {\n",
              "        const element = document.querySelector('#df-3535884d-3b60-42b6-b5d7-8c4adc4b64eb');\n",
              "        const dataTable =\n",
              "          await google.colab.kernel.invokeFunction('convertToInteractive',\n",
              "                                                    [key], {});\n",
              "        if (!dataTable) return;\n",
              "\n",
              "        const docLinkHtml = 'Like what you see? Visit the ' +\n",
              "          '<a target=\"_blank\" href=https://colab.research.google.com/notebooks/data_table.ipynb>data table notebook</a>'\n",
              "          + ' to learn more about interactive tables.';\n",
              "        element.innerHTML = '';\n",
              "        dataTable['output_type'] = 'display_data';\n",
              "        await google.colab.output.renderOutput(dataTable, element);\n",
              "        const docLink = document.createElement('div');\n",
              "        docLink.innerHTML = docLinkHtml;\n",
              "        element.appendChild(docLink);\n",
              "      }\n",
              "    </script>\n",
              "  </div>\n",
              "\n",
              "\n",
              "<div id=\"df-6720195d-4c89-4361-9618-e564abd0ff5e\">\n",
              "  <button class=\"colab-df-quickchart\" onclick=\"quickchart('df-6720195d-4c89-4361-9618-e564abd0ff5e')\"\n",
              "            title=\"Suggest charts\"\n",
              "            style=\"display:none;\">\n",
              "\n",
              "<svg xmlns=\"http://www.w3.org/2000/svg\" height=\"24px\"viewBox=\"0 0 24 24\"\n",
              "     width=\"24px\">\n",
              "    <g>\n",
              "        <path d=\"M19 3H5c-1.1 0-2 .9-2 2v14c0 1.1.9 2 2 2h14c1.1 0 2-.9 2-2V5c0-1.1-.9-2-2-2zM9 17H7v-7h2v7zm4 0h-2V7h2v10zm4 0h-2v-4h2v4z\"/>\n",
              "    </g>\n",
              "</svg>\n",
              "  </button>\n",
              "\n",
              "<style>\n",
              "  .colab-df-quickchart {\n",
              "      --bg-color: #E8F0FE;\n",
              "      --fill-color: #1967D2;\n",
              "      --hover-bg-color: #E2EBFA;\n",
              "      --hover-fill-color: #174EA6;\n",
              "      --disabled-fill-color: #AAA;\n",
              "      --disabled-bg-color: #DDD;\n",
              "  }\n",
              "\n",
              "  [theme=dark] .colab-df-quickchart {\n",
              "      --bg-color: #3B4455;\n",
              "      --fill-color: #D2E3FC;\n",
              "      --hover-bg-color: #434B5C;\n",
              "      --hover-fill-color: #FFFFFF;\n",
              "      --disabled-bg-color: #3B4455;\n",
              "      --disabled-fill-color: #666;\n",
              "  }\n",
              "\n",
              "  .colab-df-quickchart {\n",
              "    background-color: var(--bg-color);\n",
              "    border: none;\n",
              "    border-radius: 50%;\n",
              "    cursor: pointer;\n",
              "    display: none;\n",
              "    fill: var(--fill-color);\n",
              "    height: 32px;\n",
              "    padding: 0;\n",
              "    width: 32px;\n",
              "  }\n",
              "\n",
              "  .colab-df-quickchart:hover {\n",
              "    background-color: var(--hover-bg-color);\n",
              "    box-shadow: 0 1px 2px rgba(60, 64, 67, 0.3), 0 1px 3px 1px rgba(60, 64, 67, 0.15);\n",
              "    fill: var(--button-hover-fill-color);\n",
              "  }\n",
              "\n",
              "  .colab-df-quickchart-complete:disabled,\n",
              "  .colab-df-quickchart-complete:disabled:hover {\n",
              "    background-color: var(--disabled-bg-color);\n",
              "    fill: var(--disabled-fill-color);\n",
              "    box-shadow: none;\n",
              "  }\n",
              "\n",
              "  .colab-df-spinner {\n",
              "    border: 2px solid var(--fill-color);\n",
              "    border-color: transparent;\n",
              "    border-bottom-color: var(--fill-color);\n",
              "    animation:\n",
              "      spin 1s steps(1) infinite;\n",
              "  }\n",
              "\n",
              "  @keyframes spin {\n",
              "    0% {\n",
              "      border-color: transparent;\n",
              "      border-bottom-color: var(--fill-color);\n",
              "      border-left-color: var(--fill-color);\n",
              "    }\n",
              "    20% {\n",
              "      border-color: transparent;\n",
              "      border-left-color: var(--fill-color);\n",
              "      border-top-color: var(--fill-color);\n",
              "    }\n",
              "    30% {\n",
              "      border-color: transparent;\n",
              "      border-left-color: var(--fill-color);\n",
              "      border-top-color: var(--fill-color);\n",
              "      border-right-color: var(--fill-color);\n",
              "    }\n",
              "    40% {\n",
              "      border-color: transparent;\n",
              "      border-right-color: var(--fill-color);\n",
              "      border-top-color: var(--fill-color);\n",
              "    }\n",
              "    60% {\n",
              "      border-color: transparent;\n",
              "      border-right-color: var(--fill-color);\n",
              "    }\n",
              "    80% {\n",
              "      border-color: transparent;\n",
              "      border-right-color: var(--fill-color);\n",
              "      border-bottom-color: var(--fill-color);\n",
              "    }\n",
              "    90% {\n",
              "      border-color: transparent;\n",
              "      border-bottom-color: var(--fill-color);\n",
              "    }\n",
              "  }\n",
              "</style>\n",
              "\n",
              "  <script>\n",
              "    async function quickchart(key) {\n",
              "      const quickchartButtonEl =\n",
              "        document.querySelector('#' + key + ' button');\n",
              "      quickchartButtonEl.disabled = true;  // To prevent multiple clicks.\n",
              "      quickchartButtonEl.classList.add('colab-df-spinner');\n",
              "      try {\n",
              "        const charts = await google.colab.kernel.invokeFunction(\n",
              "            'suggestCharts', [key], {});\n",
              "      } catch (error) {\n",
              "        console.error('Error during call to suggestCharts:', error);\n",
              "      }\n",
              "      quickchartButtonEl.classList.remove('colab-df-spinner');\n",
              "      quickchartButtonEl.classList.add('colab-df-quickchart-complete');\n",
              "    }\n",
              "    (() => {\n",
              "      let quickchartButtonEl =\n",
              "        document.querySelector('#df-6720195d-4c89-4361-9618-e564abd0ff5e button');\n",
              "      quickchartButtonEl.style.display =\n",
              "        google.colab.kernel.accessAllowed ? 'block' : 'none';\n",
              "    })();\n",
              "  </script>\n",
              "</div>\n",
              "\n",
              "    </div>\n",
              "  </div>\n"
            ],
            "application/vnd.google.colaboratory.intrinsic+json": {
              "type": "dataframe",
              "variable_name": "df",
              "summary": "{\n  \"name\": \"df\",\n  \"rows\": 16534,\n  \"fields\": [\n    {\n      \"column\": \"work_year\",\n      \"properties\": {\n        \"dtype\": \"number\",\n        \"std\": 0,\n        \"min\": 2020,\n        \"max\": 2024,\n        \"num_unique_values\": 5,\n        \"samples\": [\n          2022,\n          2021,\n          2023\n        ],\n        \"semantic_type\": \"\",\n        \"description\": \"\"\n      }\n    },\n    {\n      \"column\": \"experience_level\",\n      \"properties\": {\n        \"dtype\": \"category\",\n        \"num_unique_values\": 4,\n        \"samples\": [\n          \"MI\",\n          \"EX\",\n          \"SE\"\n        ],\n        \"semantic_type\": \"\",\n        \"description\": \"\"\n      }\n    },\n    {\n      \"column\": \"employment_type\",\n      \"properties\": {\n        \"dtype\": \"category\",\n        \"num_unique_values\": 4,\n        \"samples\": [\n          \"CT\",\n          \"FL\",\n          \"FT\"\n        ],\n        \"semantic_type\": \"\",\n        \"description\": \"\"\n      }\n    },\n    {\n      \"column\": \"job_title\",\n      \"properties\": {\n        \"dtype\": \"category\",\n        \"num_unique_values\": 155,\n        \"samples\": [\n          \"Data Quality Analyst\",\n          \"BI Data Engineer\",\n          \"Data Analytics Specialist\"\n        ],\n        \"semantic_type\": \"\",\n        \"description\": \"\"\n      }\n    },\n    {\n      \"column\": \"salary\",\n      \"properties\": {\n        \"dtype\": \"number\",\n        \"std\": 340205,\n        \"min\": 14000,\n        \"max\": 30400000,\n        \"num_unique_values\": 2560,\n        \"samples\": [\n          162500,\n          190200,\n          158680\n        ],\n        \"semantic_type\": \"\",\n        \"description\": \"\"\n      }\n    },\n    {\n      \"column\": \"salary_currency\",\n      \"properties\": {\n        \"dtype\": \"category\",\n        \"num_unique_values\": 23,\n        \"samples\": [\n          \"JPY\",\n          \"NZD\",\n          \"USD\"\n        ],\n        \"semantic_type\": \"\",\n        \"description\": \"\"\n      }\n    },\n    {\n      \"column\": \"salary_in_usd\",\n      \"properties\": {\n        \"dtype\": \"number\",\n        \"std\": 68505,\n        \"min\": 15000,\n        \"max\": 800000,\n        \"num_unique_values\": 2939,\n        \"samples\": [\n          38290,\n          172100,\n          67979\n        ],\n        \"semantic_type\": \"\",\n        \"description\": \"\"\n      }\n    },\n    {\n      \"column\": \"employee_residence\",\n      \"properties\": {\n        \"dtype\": \"category\",\n        \"num_unique_values\": 88,\n        \"samples\": [\n          \"PR\",\n          \"US\",\n          \"SA\"\n        ],\n        \"semantic_type\": \"\",\n        \"description\": \"\"\n      }\n    },\n    {\n      \"column\": \"remote_ratio\",\n      \"properties\": {\n        \"dtype\": \"number\",\n        \"std\": 46,\n        \"min\": 0,\n        \"max\": 100,\n        \"num_unique_values\": 3,\n        \"samples\": [\n          0,\n          100,\n          50\n        ],\n        \"semantic_type\": \"\",\n        \"description\": \"\"\n      }\n    },\n    {\n      \"column\": \"company_location\",\n      \"properties\": {\n        \"dtype\": \"category\",\n        \"num_unique_values\": 77,\n        \"samples\": [\n          \"NL\",\n          \"EE\",\n          \"AR\"\n        ],\n        \"semantic_type\": \"\",\n        \"description\": \"\"\n      }\n    },\n    {\n      \"column\": \"company_size\",\n      \"properties\": {\n        \"dtype\": \"category\",\n        \"num_unique_values\": 3,\n        \"samples\": [\n          \"M\",\n          \"L\",\n          \"S\"\n        ],\n        \"semantic_type\": \"\",\n        \"description\": \"\"\n      }\n    }\n  ]\n}"
            }
          },
          "metadata": {},
          "execution_count": 90
        }
      ]
    },
    {
      "cell_type": "markdown",
      "source": [
        "# **Veri Seti Hakkında Bilgi**\n",
        "work_year: Verilerin toplandığı yıl (2024).\n",
        "experience_level: Çalışanların deneyim seviyeleri sırasıyla Senior Engineer (SE), Mid-Level Engineer (MI), veya Entry-Level Engineer (EL) olarak kategorize edilmiştir.\n",
        "employment_type: Çalışma zamanları Tam Zamanlı (FT), Yarı Zamanlı (PT), Kontratlı (C), veya Serbest Çalışan (F) olarak belirtilmiştir.\n",
        "job_title: Şirket içindeki çalışanların ünvanları. Örneğin, AI Engineer.\n",
        "salary: Yerel para birimine göre alınan maaş (örneğin, 202,730).\n",
        "salary_currency: Paranın birimi.\n",
        "salary_in_usd: Yerel para birimine göre olan maaşın dolar bazında tutulduğu sütun.\n",
        "employee_residence: Çalışanın ikamet ettiği ülke.\n",
        "remote_ratio: Pozisyonda izin verilen uzaktan çalışmanın kapsamını gösteren oran (uzaktan çalışma olmaması için 0, tamamen uzaktan çalışma için 1).\n",
        "company_location: Şirketin bulunduğu ülke.\n",
        "company_size: Şirketin büyüklüğü, çoğunlukla çalışan sayısına göre baz alınmıştır (küçük için S, orta için M, büyük için L).\n"
      ],
      "metadata": {
        "id": "TJSWBGAE1Qen"
      }
    },
    {
      "cell_type": "markdown",
      "source": [],
      "metadata": {
        "id": "XAZ_JIAVUqot"
      }
    },
    {
      "cell_type": "markdown",
      "source": [
        "# Veri setimizde kaç veri ve kaç sütun var?"
      ],
      "metadata": {
        "id": "A1d1OVWxDnZW"
      }
    },
    {
      "cell_type": "code",
      "source": [
        "df.shape"
      ],
      "metadata": {
        "colab": {
          "base_uri": "https://localhost:8080/"
        },
        "id": "7B6IFJbDVRi6",
        "outputId": "b7b2fc37-31be-4faa-e80d-34f04c7094b0"
      },
      "execution_count": null,
      "outputs": [
        {
          "output_type": "execute_result",
          "data": {
            "text/plain": [
              "(16534, 11)"
            ]
          },
          "metadata": {},
          "execution_count": 70
        }
      ]
    },
    {
      "cell_type": "markdown",
      "source": [
        "# Veri setimizin sütun tipleri nelerdir?"
      ],
      "metadata": {
        "id": "gOthBNsxDvwn"
      }
    },
    {
      "cell_type": "code",
      "source": [
        "df.info()\n"
      ],
      "metadata": {
        "colab": {
          "base_uri": "https://localhost:8080/"
        },
        "id": "W3azElVDVbOB",
        "outputId": "46aa0274-bb36-42b5-d8fc-ef8633cc3358"
      },
      "execution_count": null,
      "outputs": [
        {
          "output_type": "stream",
          "name": "stdout",
          "text": [
            "<class 'pandas.core.frame.DataFrame'>\n",
            "RangeIndex: 16534 entries, 0 to 16533\n",
            "Data columns (total 11 columns):\n",
            " #   Column              Non-Null Count  Dtype \n",
            "---  ------              --------------  ----- \n",
            " 0   work_year           16534 non-null  int64 \n",
            " 1   experience_level    16534 non-null  object\n",
            " 2   employment_type     16534 non-null  object\n",
            " 3   job_title           16534 non-null  object\n",
            " 4   salary              16534 non-null  int64 \n",
            " 5   salary_currency     16534 non-null  object\n",
            " 6   salary_in_usd       16534 non-null  int64 \n",
            " 7   employee_residence  16534 non-null  object\n",
            " 8   remote_ratio        16534 non-null  int64 \n",
            " 9   company_location    16534 non-null  object\n",
            " 10  company_size        16534 non-null  object\n",
            "dtypes: int64(4), object(7)\n",
            "memory usage: 1.4+ MB\n"
          ]
        }
      ]
    },
    {
      "cell_type": "markdown",
      "source": [
        "# Veri setimizin sayısal verileri üzerinde analiz yapıyoruz..."
      ],
      "metadata": {
        "id": "6cDSByO3D2Mn"
      }
    },
    {
      "cell_type": "code",
      "source": [
        "print(df.describe().T)"
      ],
      "metadata": {
        "colab": {
          "base_uri": "https://localhost:8080/"
        },
        "id": "Bnipt820aMrF",
        "outputId": "20e04077-5c49-4322-f507-a5698073b3a2"
      },
      "execution_count": null,
      "outputs": [
        {
          "output_type": "stream",
          "name": "stdout",
          "text": [
            "                 count           mean            std      min       25%  \\\n",
            "work_year      16534.0    2023.226866       0.713558   2020.0    2023.0   \n",
            "salary         16534.0  163726.962683  340205.744183  14000.0  101763.0   \n",
            "salary_in_usd  16534.0  149686.777973   68505.293156  15000.0  101125.0   \n",
            "remote_ratio   16534.0      32.003750      46.245158      0.0       0.0   \n",
            "\n",
            "                    50%       75%         max  \n",
            "work_year        2023.0    2024.0      2024.0  \n",
            "salary         142200.0  187200.0  30400000.0  \n",
            "salary_in_usd  141300.0  185900.0    800000.0  \n",
            "remote_ratio        0.0     100.0       100.0  \n"
          ]
        }
      ]
    },
    {
      "cell_type": "markdown",
      "source": [
        "# Boşluk Analizi"
      ],
      "metadata": {
        "id": "EYzOV9XjD9CG"
      }
    },
    {
      "cell_type": "code",
      "source": [
        "df.isnull().sum()"
      ],
      "metadata": {
        "colab": {
          "base_uri": "https://localhost:8080/"
        },
        "id": "kdHlJ-DMVqz1",
        "outputId": "472bdeb8-0a86-47f6-89c5-5d4217aff847"
      },
      "execution_count": null,
      "outputs": [
        {
          "output_type": "execute_result",
          "data": {
            "text/plain": [
              "work_year             0\n",
              "experience_level      0\n",
              "employment_type       0\n",
              "job_title             0\n",
              "salary                0\n",
              "salary_currency       0\n",
              "salary_in_usd         0\n",
              "employee_residence    0\n",
              "remote_ratio          0\n",
              "company_location      0\n",
              "company_size          0\n",
              "dtype: int64"
            ]
          },
          "metadata": {},
          "execution_count": 74
        }
      ]
    },
    {
      "cell_type": "markdown",
      "source": [
        "Göründüğü gibi boş verimiz yok"
      ],
      "metadata": {
        "id": "Anu-4rYTEJby"
      }
    },
    {
      "cell_type": "markdown",
      "source": [
        "# **Grafikler**"
      ],
      "metadata": {
        "id": "QGwfd-EfEAyw"
      }
    },
    {
      "cell_type": "code",
      "source": [
        "tur_counts = df[\"salary_currency\"].value_counts().to_dict()\n",
        "\n",
        "\n",
        "en_cok_kullanilan_para_birimleri = sorted(tur_counts, key=tur_counts.get, reverse=True)[:3]\n",
        "\n",
        "\n",
        "diger_para_birimleri = sum([tur_counts[currency] for currency in tur_counts if currency not in en_cok_kullanilan_para_birimleri])\n",
        "\n",
        "\n",
        "labels = en_cok_kullanilan_para_birimleri + [\"Diğer Para Birimleri\"]\n",
        "values = [tur_counts[currency] for currency in en_cok_kullanilan_para_birimleri] + [diger_para_birimleri]\n",
        "\n",
        "\n",
        "fig, ax = plt.subplots()\n",
        "ax.pie(values, labels=labels, autopct=\"%1.1f%%\")\n",
        "ax.set_title(\"Para Birimi Dağılımı\")\n",
        "\n",
        "plt.show()\n"
      ],
      "metadata": {
        "colab": {
          "base_uri": "https://localhost:8080/",
          "height": 428
        },
        "id": "8toHZJ5f10BK",
        "outputId": "3ce655d8-d19f-45ef-a6e2-350c8e1afe57"
      },
      "execution_count": null,
      "outputs": [
        {
          "output_type": "display_data",
          "data": {
            "text/plain": [
              "<Figure size 640x480 with 1 Axes>"
            ],
            "image/png": "[encoded data removed]"
          },
          "metadata": {}
        }
      ]
    },
    {
      "cell_type": "markdown",
      "source": [
        "Yukarıda görünen pasta grafiğinde en çok kullanılan para birimi %93 ile 'USD' oluyor, sonrasında %4 ile 'GBP', ardından %3 ile 'EUR' geliyor. 'Diğer Para Birimleri' ise %1'lik kısmı karşılıyor. Kısacası, maaşlar genellikle 'USD' ile ödeniyor diyebiliriz.\n",
        "."
      ],
      "metadata": {
        "id": "M_AJqlDCEEpw"
      }
    },
    {
      "cell_type": "code",
      "source": [
        "plt.figure(figsize=(7, 6))\n",
        "\n",
        "sns.barplot(x='experience_level', y='salary_in_usd', data=df)\n",
        "\n",
        "plt.title('Deneyime Seviyesine Göre Maaş Dağılımı')\n",
        "plt.xlabel('Deneyim Seviyesi')\n",
        "plt.ylabel('Maaş (dolar)')\n",
        "\n",
        "plt.show()"
      ],
      "metadata": {
        "colab": {
          "base_uri": "https://localhost:8080/",
          "height": 564
        },
        "id": "jx5MZbwC0t6Y",
        "outputId": "7c140233-ba38-44e0-9c9f-78c4f615e2ca"
      },
      "execution_count": null,
      "outputs": [
        {
          "output_type": "display_data",
          "data": {
            "text/plain": [
              "<Figure size 700x600 with 1 Axes>"
            ],
            "image/png": "[encoded data removed]"
          },
          "metadata": {}
        }
      ]
    },
    {
      "cell_type": "markdown",
      "source": [
        "Yukarıda verilen grafiğe göre en çok maaş alan 'EX' deneyim seviyesine sahip olanlardır. En az maaşı alanlar ise 'EN' deneyim seviyesine sahiptir.\n",
        "Kısacası deneyim arttıkça alınan maaş artar diyebiliriz."
      ],
      "metadata": {
        "id": "ZZKWmZPcGI8n"
      }
    },
    {
      "cell_type": "markdown",
      "source": [
        "# **Aykırı Veri Analizi**"
      ],
      "metadata": {
        "id": "unZnUvy2FT5s"
      }
    },
    {
      "cell_type": "code",
      "source": [
        "plt.figure(figsize=(8, 6))\n",
        "sns.boxplot(x=df['salary_in_usd'])\n",
        "plt.title('Maaş Grafiği')\n",
        "plt.xlabel('Dolar Bazından Maaş')\n",
        "plt.show()"
      ],
      "metadata": {
        "colab": {
          "base_uri": "https://localhost:8080/",
          "height": 564
        },
        "id": "m6iR1af17Rvk",
        "outputId": "128eecbf-311f-4a96-f7af-89a64808c49f"
      },
      "execution_count": null,
      "outputs": [
        {
          "output_type": "display_data",
          "data": {
            "text/plain": [
              "<Figure size 800x600 with 1 Axes>"
            ],
            "image/png": "[encoded data removed]"
          },
          "metadata": {}
        }
      ]
    },
    {
      "cell_type": "markdown",
      "source": [
        "Yukarıdaki grafikte göründüğü gibi yuvarlak noktalar aykırı verilerdir.\n",
        "Aşağıdaki kodlar ise analizlerin yapıldığı sınırların belirlendiği (bknz. q1, q3, IQR, high) ve sınırın üstünde kalanların sınıra eşitlendiği (baskılandığı) kodu göstermektedir."
      ],
      "metadata": {
        "id": "gXQGYC90G4At"
      }
    },
    {
      "cell_type": "code",
      "source": [
        "q1=df[\"salary_in_usd\"].quantile(0.25)\n",
        "q3=df[\"salary_in_usd\"].quantile(0.75)\n",
        "IQR=q3-q1\n",
        "high = q3+1.5*IQR\n",
        "print(\"Q1\", q1)\n",
        "print(\"Q3\", q3)\n",
        "print(\"IQR\", IQR)\n",
        "print(\"Üst sınır\", high)\n",
        "df.loc[(df[\"salary_in_usd\"]>high,\"salary_in_usd\")]=high\n",
        "\n",
        "\n",
        "\n"
      ],
      "metadata": {
        "colab": {
          "base_uri": "https://localhost:8080/"
        },
        "id": "CcLc6peU71n8",
        "outputId": "81250766-d05e-4a6b-d47c-db8fa6ad34b7"
      },
      "execution_count": null,
      "outputs": [
        {
          "output_type": "stream",
          "name": "stdout",
          "text": [
            "Q1 101125.0\n",
            "Q3 185900.0\n",
            "IQR 84775.0\n",
            "Üst sınır 313062.5\n"
          ]
        }
      ]
    },
    {
      "cell_type": "code",
      "source": [
        "plt.figure(figsize=(8, 6))\n",
        "sns.boxplot(x=df['salary_in_usd'])\n",
        "plt.title('Maaş Grafiği')\n",
        "plt.xlabel('Dolar Bazından Maaş')\n",
        "plt.show()"
      ],
      "metadata": {
        "colab": {
          "base_uri": "https://localhost:8080/",
          "height": 564
        },
        "id": "Pt0oJcQd8tx8",
        "outputId": "0861db47-108a-4dc2-d5e4-96492c2718ed"
      },
      "execution_count": null,
      "outputs": [
        {
          "output_type": "display_data",
          "data": {
            "text/plain": [
              "<Figure size 800x600 with 1 Axes>"
            ],
            "image/png": "[encoded data removed]"
          },
          "metadata": {}
        }
      ]
    },
    {
      "cell_type": "markdown",
      "source": [
        "Yukarıda göründüğü gibi aykırı verilerimizi temizlemiş durumdayız. Artık grafiğimiz daha temiz gözüküyor."
      ],
      "metadata": {
        "id": "JM-dLG0YHd3H"
      }
    },
    {
      "cell_type": "markdown",
      "source": [
        "# **Kategorik verilerin Analizi**"
      ],
      "metadata": {
        "id": "rsMBnEgPHuAp"
      }
    },
    {
      "cell_type": "code",
      "source": [
        "cat_col=[col for col in df.columns if(df[col].dtypes in[\"category\",\"object\",\"bool\"])]\n"
      ],
      "metadata": {
        "id": "hgKUGEcmcE9T"
      },
      "execution_count": null,
      "outputs": []
    },
    {
      "cell_type": "markdown",
      "source": [
        "Yukarıdaki kod, metinsel verilerin sütunlarını liste halinde alacak şekilde tasarlanmıştır"
      ],
      "metadata": {
        "id": "JAiezXQyHrkx"
      }
    },
    {
      "cell_type": "code",
      "source": [
        "for col in cat_col:\n",
        "  print(df[col].value_counts(),\"\\n\")"
      ],
      "metadata": {
        "colab": {
          "base_uri": "https://localhost:8080/"
        },
        "id": "p3jhJwD4kFIt",
        "outputId": "600c6ef6-384c-4b3f-9f80-fd57dfd29d30"
      },
      "execution_count": null,
      "outputs": [
        {
          "output_type": "stream",
          "name": "stdout",
          "text": [
            "experience_level\n",
            "SE    10670\n",
            "MI     4038\n",
            "EN     1325\n",
            "EX      501\n",
            "Name: count, dtype: int64 \n",
            "\n",
            "employment_type\n",
            "FT    16454\n",
            "PT       38\n",
            "CT       28\n",
            "FL       14\n",
            "Name: count, dtype: int64 \n",
            "\n",
            "job_title\n",
            "Data Engineer                    3464\n",
            "Data Scientist                   3314\n",
            "Data Analyst                     2440\n",
            "Machine Learning Engineer        1705\n",
            "Research Scientist                531\n",
            "                                 ... \n",
            "Quantitative Research Analyst       1\n",
            "AWS Data Architect                  1\n",
            "Analytics Engineering Manager       1\n",
            "Marketing Data Scientist            1\n",
            "Applied Research Scientist          1\n",
            "Name: count, Length: 155, dtype: int64 \n",
            "\n",
            "salary_currency\n",
            "USD    15294\n",
            "GBP      616\n",
            "EUR      449\n",
            "CAD       56\n",
            "INR       55\n",
            "AUD       12\n",
            "CHF        8\n",
            "PLN        7\n",
            "SGD        6\n",
            "BRL        5\n",
            "DKK        4\n",
            "JPY        4\n",
            "TRY        3\n",
            "HUF        3\n",
            "ILS        2\n",
            "NOK        2\n",
            "THB        2\n",
            "NZD        1\n",
            "PHP        1\n",
            "ZAR        1\n",
            "HKD        1\n",
            "MXN        1\n",
            "CLP        1\n",
            "Name: count, dtype: int64 \n",
            "\n",
            "employee_residence\n",
            "US    14467\n",
            "GB      686\n",
            "CA      453\n",
            "ES      137\n",
            "DE       98\n",
            "      ...  \n",
            "UG        1\n",
            "MU        1\n",
            "QA        1\n",
            "PE        1\n",
            "LU        1\n",
            "Name: count, Length: 88, dtype: int64 \n",
            "\n",
            "company_location\n",
            "US    14518\n",
            "GB      694\n",
            "CA      455\n",
            "ES      133\n",
            "DE      105\n",
            "      ...  \n",
            "AM        1\n",
            "QA        1\n",
            "AD        1\n",
            "EC        1\n",
            "MD        1\n",
            "Name: count, Length: 77, dtype: int64 \n",
            "\n",
            "company_size\n",
            "M    15306\n",
            "L     1040\n",
            "S      188\n",
            "Name: count, dtype: int64 \n",
            "\n"
          ]
        }
      ]
    },
    {
      "cell_type": "markdown",
      "source": [
        "Yukarıdaki kod, daha önce listeye alınmış olan sütunlardaki verilerin sayısını ve veriyi bir döngü içinde basitçe yazdırır."
      ],
      "metadata": {
        "id": "Q0IKxWIFIR2g"
      }
    },
    {
      "cell_type": "markdown",
      "source": [
        "# **Makine Öğrenmesine Hazırlık**"
      ],
      "metadata": {
        "id": "vxV7wKarJHGA"
      }
    },
    {
      "cell_type": "code",
      "source": [
        "df=df.drop(\"salary\",axis=1)\n",
        "for col in cat_col:\n",
        "  df[col]=LabelEncoder().fit_transform(df[col])\n",
        "  print(df[col].value_counts(),\"\\n\")\n",
        "\n",
        "df.head(10)"
      ],
      "metadata": {
        "colab": {
          "base_uri": "https://localhost:8080/",
          "height": 1000
        },
        "id": "6AB8nEphXskp",
        "outputId": "b7ffb0f1-edde-4936-8359-9bdc6aa9a147"
      },
      "execution_count": null,
      "outputs": [
        {
          "output_type": "stream",
          "name": "stdout",
          "text": [
            "experience_level\n",
            "3    10670\n",
            "2     4038\n",
            "0     1325\n",
            "1      501\n",
            "Name: count, dtype: int64 \n",
            "\n",
            "employment_type\n",
            "2    16454\n",
            "3       38\n",
            "0       28\n",
            "1       14\n",
            "Name: count, dtype: int64 \n",
            "\n",
            "job_title\n",
            "57     3464\n",
            "90     3314\n",
            "46     2440\n",
            "120    1705\n",
            "147     531\n",
            "       ... \n",
            "144       1\n",
            "9         1\n",
            "12        1\n",
            "134       1\n",
            "16        1\n",
            "Name: count, Length: 155, dtype: int64 \n",
            "\n",
            "salary_currency\n",
            "21    15294\n",
            "7       616\n",
            "6       449\n",
            "2        56\n",
            "11       55\n",
            "0        12\n",
            "3         8\n",
            "17        7\n",
            "18        6\n",
            "1         5\n",
            "5         4\n",
            "12        4\n",
            "20        3\n",
            "9         3\n",
            "10        2\n",
            "14        2\n",
            "19        2\n",
            "15        1\n",
            "16        1\n",
            "22        1\n",
            "8         1\n",
            "13        1\n",
            "4         1\n",
            "Name: count, dtype: int64 \n",
            "\n",
            "employee_residence\n",
            "84    14467\n",
            "31      686\n",
            "12      453\n",
            "28      137\n",
            "21       98\n",
            "      ...  \n",
            "83        1\n",
            "57        1\n",
            "71        1\n",
            "65        1\n",
            "53        1\n",
            "Name: count, Length: 88, dtype: int64 \n",
            "\n",
            "company_location\n",
            "74    14518\n",
            "27      694\n",
            "11      455\n",
            "24      133\n",
            "18      105\n",
            "      ...  \n",
            "2         1\n",
            "64        1\n",
            "0         1\n",
            "21        1\n",
            "49        1\n",
            "Name: count, Length: 77, dtype: int64 \n",
            "\n",
            "company_size\n",
            "1    15306\n",
            "0     1040\n",
            "2      188\n",
            "Name: count, dtype: int64 \n",
            "\n"
          ]
        },
        {
          "output_type": "execute_result",
          "data": {
            "text/plain": [
              "   work_year  experience_level  employment_type  job_title  salary_currency  \\\n",
              "0       2024                 3                2          2               21   \n",
              "1       2024                 3                2          2               21   \n",
              "2       2024                 3                2         57               21   \n",
              "3       2024                 3                2         57               21   \n",
              "4       2024                 3                2        120               21   \n",
              "5       2024                 3                2        120               21   \n",
              "6       2024                 2                2        116               21   \n",
              "7       2024                 2                2        116               21   \n",
              "8       2024                 0                2         46               21   \n",
              "9       2024                 0                2         46               21   \n",
              "\n",
              "   salary_in_usd  employee_residence  remote_ratio  company_location  \\\n",
              "0       202730.0                  84             0                74   \n",
              "1        92118.0                  84             0                74   \n",
              "2       130500.0                  84             0                74   \n",
              "3        96000.0                  84             0                74   \n",
              "4       190000.0                  84             0                74   \n",
              "5       160000.0                  84             0                74   \n",
              "6       313062.5                  84             0                74   \n",
              "7        65000.0                  84             0                74   \n",
              "8       101520.0                  84             0                74   \n",
              "9        45864.0                  84             0                74   \n",
              "\n",
              "   company_size  \n",
              "0             1  \n",
              "1             1  \n",
              "2             1  \n",
              "3             1  \n",
              "4             1  \n",
              "5             1  \n",
              "6             1  \n",
              "7             1  \n",
              "8             1  \n",
              "9             1  "
            ],
            "text/html": [
              "\n",
              "  <div id=\"df-0cbc382c-5679-4cf0-85c7-7ac21956d3be\" class=\"colab-df-container\">\n",
              "    <div>\n",
              "<style scoped>\n",
              "    .dataframe tbody tr th:only-of-type {\n",
              "        vertical-align: middle;\n",
              "    }\n",
              "\n",
              "    .dataframe tbody tr th {\n",
              "        vertical-align: top;\n",
              "    }\n",
              "\n",
              "    .dataframe thead th {\n",
              "        text-align: right;\n",
              "    }\n",
              "</style>\n",
              "<table border=\"1\" class=\"dataframe\">\n",
              "  <thead>\n",
              "    <tr style=\"text-align: right;\">\n",
              "      <th></th>\n",
              "      <th>work_year</th>\n",
              "      <th>experience_level</th>\n",
              "      <th>employment_type</th>\n",
              "      <th>job_title</th>\n",
              "      <th>salary_currency</th>\n",
              "      <th>salary_in_usd</th>\n",
              "      <th>employee_residence</th>\n",
              "      <th>remote_ratio</th>\n",
              "      <th>company_location</th>\n",
              "      <th>company_size</th>\n",
              "    </tr>\n",
              "  </thead>\n",
              "  <tbody>\n",
              "    <tr>\n",
              "      <th>0</th>\n",
              "      <td>2024</td>\n",
              "      <td>3</td>\n",
              "      <td>2</td>\n",
              "      <td>2</td>\n",
              "      <td>21</td>\n",
              "      <td>202730.0</td>\n",
              "      <td>84</td>\n",
              "      <td>0</td>\n",
              "      <td>74</td>\n",
              "      <td>1</td>\n",
              "    </tr>\n",
              "    <tr>\n",
              "      <th>1</th>\n",
              "      <td>2024</td>\n",
              "      <td>3</td>\n",
              "      <td>2</td>\n",
              "      <td>2</td>\n",
              "      <td>21</td>\n",
              "      <td>92118.0</td>\n",
              "      <td>84</td>\n",
              "      <td>0</td>\n",
              "      <td>74</td>\n",
              "      <td>1</td>\n",
              "    </tr>\n",
              "    <tr>\n",
              "      <th>2</th>\n",
              "      <td>2024</td>\n",
              "      <td>3</td>\n",
              "      <td>2</td>\n",
              "      <td>57</td>\n",
              "      <td>21</td>\n",
              "      <td>130500.0</td>\n",
              "      <td>84</td>\n",
              "      <td>0</td>\n",
              "      <td>74</td>\n",
              "      <td>1</td>\n",
              "    </tr>\n",
              "    <tr>\n",
              "      <th>3</th>\n",
              "      <td>2024</td>\n",
              "      <td>3</td>\n",
              "      <td>2</td>\n",
              "      <td>57</td>\n",
              "      <td>21</td>\n",
              "      <td>96000.0</td>\n",
              "      <td>84</td>\n",
              "      <td>0</td>\n",
              "      <td>74</td>\n",
              "      <td>1</td>\n",
              "    </tr>\n",
              "    <tr>\n",
              "      <th>4</th>\n",
              "      <td>2024</td>\n",
              "      <td>3</td>\n",
              "      <td>2</td>\n",
              "      <td>120</td>\n",
              "      <td>21</td>\n",
              "      <td>190000.0</td>\n",
              "      <td>84</td>\n",
              "      <td>0</td>\n",
              "      <td>74</td>\n",
              "      <td>1</td>\n",
              "    </tr>\n",
              "    <tr>\n",
              "      <th>5</th>\n",
              "      <td>2024</td>\n",
              "      <td>3</td>\n",
              "      <td>2</td>\n",
              "      <td>120</td>\n",
              "      <td>21</td>\n",
              "      <td>160000.0</td>\n",
              "      <td>84</td>\n",
              "      <td>0</td>\n",
              "      <td>74</td>\n",
              "      <td>1</td>\n",
              "    </tr>\n",
              "    <tr>\n",
              "      <th>6</th>\n",
              "      <td>2024</td>\n",
              "      <td>2</td>\n",
              "      <td>2</td>\n",
              "      <td>116</td>\n",
              "      <td>21</td>\n",
              "      <td>313062.5</td>\n",
              "      <td>84</td>\n",
              "      <td>0</td>\n",
              "      <td>74</td>\n",
              "      <td>1</td>\n",
              "    </tr>\n",
              "    <tr>\n",
              "      <th>7</th>\n",
              "      <td>2024</td>\n",
              "      <td>2</td>\n",
              "      <td>2</td>\n",
              "      <td>116</td>\n",
              "      <td>21</td>\n",
              "      <td>65000.0</td>\n",
              "      <td>84</td>\n",
              "      <td>0</td>\n",
              "      <td>74</td>\n",
              "      <td>1</td>\n",
              "    </tr>\n",
              "    <tr>\n",
              "      <th>8</th>\n",
              "      <td>2024</td>\n",
              "      <td>0</td>\n",
              "      <td>2</td>\n",
              "      <td>46</td>\n",
              "      <td>21</td>\n",
              "      <td>101520.0</td>\n",
              "      <td>84</td>\n",
              "      <td>0</td>\n",
              "      <td>74</td>\n",
              "      <td>1</td>\n",
              "    </tr>\n",
              "    <tr>\n",
              "      <th>9</th>\n",
              "      <td>2024</td>\n",
              "      <td>0</td>\n",
              "      <td>2</td>\n",
              "      <td>46</td>\n",
              "      <td>21</td>\n",
              "      <td>45864.0</td>\n",
              "      <td>84</td>\n",
              "      <td>0</td>\n",
              "      <td>74</td>\n",
              "      <td>1</td>\n",
              "    </tr>\n",
              "  </tbody>\n",
              "</table>\n",
              "</div>\n",
              "    <div class=\"colab-df-buttons\">\n",
              "\n",
              "  <div class=\"colab-df-container\">\n",
              "    <button class=\"colab-df-convert\" onclick=\"convertToInteractive('df-0cbc382c-5679-4cf0-85c7-7ac21956d3be')\"\n",
              "            title=\"Convert this dataframe to an interactive table.\"\n",
              "            style=\"display:none;\">\n",
              "\n",
              "  <svg xmlns=\"http://www.w3.org/2000/svg\" height=\"24px\" viewBox=\"0 -960 960 960\">\n",
              "    <path d=\"M120-120v-720h720v720H120Zm60-500h600v-160H180v160Zm220 220h160v-160H400v160Zm0 220h160v-160H400v160ZM180-400h160v-160H180v160Zm440 0h160v-160H620v160ZM180-180h160v-160H180v160Zm440 0h160v-160H620v160Z\"/>\n",
              "  </svg>\n",
              "    </button>\n",
              "\n",
              "  <style>\n",
              "    .colab-df-container {\n",
              "      display:flex;\n",
              "      gap: 12px;\n",
              "    }\n",
              "\n",
              "    .colab-df-convert {\n",
              "      background-color: #E8F0FE;\n",
              "      border: none;\n",
              "      border-radius: 50%;\n",
              "      cursor: pointer;\n",
              "      display: none;\n",
              "      fill: #1967D2;\n",
              "      height: 32px;\n",
              "      padding: 0 0 0 0;\n",
              "      width: 32px;\n",
              "    }\n",
              "\n",
              "    .colab-df-convert:hover {\n",
              "      background-color: #E2EBFA;\n",
              "      box-shadow: 0px 1px 2px rgba(60, 64, 67, 0.3), 0px 1px 3px 1px rgba(60, 64, 67, 0.15);\n",
              "      fill: #174EA6;\n",
              "    }\n",
              "\n",
              "    .colab-df-buttons div {\n",
              "      margin-bottom: 4px;\n",
              "    }\n",
              "\n",
              "    [theme=dark] .colab-df-convert {\n",
              "      background-color: #3B4455;\n",
              "      fill: #D2E3FC;\n",
              "    }\n",
              "\n",
              "    [theme=dark] .colab-df-convert:hover {\n",
              "      background-color: #434B5C;\n",
              "      box-shadow: 0px 1px 3px 1px rgba(0, 0, 0, 0.15);\n",
              "      filter: drop-shadow(0px 1px 2px rgba(0, 0, 0, 0.3));\n",
              "      fill: #FFFFFF;\n",
              "    }\n",
              "  </style>\n",
              "\n",
              "    <script>\n",
              "      const buttonEl =\n",
              "        document.querySelector('#df-0cbc382c-5679-4cf0-85c7-7ac21956d3be button.colab-df-convert');\n",
              "      buttonEl.style.display =\n",
              "        google.colab.kernel.accessAllowed ? 'block' : 'none';\n",
              "\n",
              "      async function convertToInteractive(key) {\n",
              "        const element = document.querySelector('#df-0cbc382c-5679-4cf0-85c7-7ac21956d3be');\n",
              "        const dataTable =\n",
              "          await google.colab.kernel.invokeFunction('convertToInteractive',\n",
              "                                                    [key], {});\n",
              "        if (!dataTable) return;\n",
              "\n",
              "        const docLinkHtml = 'Like what you see? Visit the ' +\n",
              "          '<a target=\"_blank\" href=https://colab.research.google.com/notebooks/data_table.ipynb>data table notebook</a>'\n",
              "          + ' to learn more about interactive tables.';\n",
              "        element.innerHTML = '';\n",
              "        dataTable['output_type'] = 'display_data';\n",
              "        await google.colab.output.renderOutput(dataTable, element);\n",
              "        const docLink = document.createElement('div');\n",
              "        docLink.innerHTML = docLinkHtml;\n",
              "        element.appendChild(docLink);\n",
              "      }\n",
              "    </script>\n",
              "  </div>\n",
              "\n",
              "\n",
              "<div id=\"df-c8cb59f1-0784-44d1-aece-2f48ef3e99d0\">\n",
              "  <button class=\"colab-df-quickchart\" onclick=\"quickchart('df-c8cb59f1-0784-44d1-aece-2f48ef3e99d0')\"\n",
              "            title=\"Suggest charts\"\n",
              "            style=\"display:none;\">\n",
              "\n",
              "<svg xmlns=\"http://www.w3.org/2000/svg\" height=\"24px\"viewBox=\"0 0 24 24\"\n",
              "     width=\"24px\">\n",
              "    <g>\n",
              "        <path d=\"M19 3H5c-1.1 0-2 .9-2 2v14c0 1.1.9 2 2 2h14c1.1 0 2-.9 2-2V5c0-1.1-.9-2-2-2zM9 17H7v-7h2v7zm4 0h-2V7h2v10zm4 0h-2v-4h2v4z\"/>\n",
              "    </g>\n",
              "</svg>\n",
              "  </button>\n",
              "\n",
              "<style>\n",
              "  .colab-df-quickchart {\n",
              "      --bg-color: #E8F0FE;\n",
              "      --fill-color: #1967D2;\n",
              "      --hover-bg-color: #E2EBFA;\n",
              "      --hover-fill-color: #174EA6;\n",
              "      --disabled-fill-color: #AAA;\n",
              "      --disabled-bg-color: #DDD;\n",
              "  }\n",
              "\n",
              "  [theme=dark] .colab-df-quickchart {\n",
              "      --bg-color: #3B4455;\n",
              "      --fill-color: #D2E3FC;\n",
              "      --hover-bg-color: #434B5C;\n",
              "      --hover-fill-color: #FFFFFF;\n",
              "      --disabled-bg-color: #3B4455;\n",
              "      --disabled-fill-color: #666;\n",
              "  }\n",
              "\n",
              "  .colab-df-quickchart {\n",
              "    background-color: var(--bg-color);\n",
              "    border: none;\n",
              "    border-radius: 50%;\n",
              "    cursor: pointer;\n",
              "    display: none;\n",
              "    fill: var(--fill-color);\n",
              "    height: 32px;\n",
              "    padding: 0;\n",
              "    width: 32px;\n",
              "  }\n",
              "\n",
              "  .colab-df-quickchart:hover {\n",
              "    background-color: var(--hover-bg-color);\n",
              "    box-shadow: 0 1px 2px rgba(60, 64, 67, 0.3), 0 1px 3px 1px rgba(60, 64, 67, 0.15);\n",
              "    fill: var(--button-hover-fill-color);\n",
              "  }\n",
              "\n",
              "  .colab-df-quickchart-complete:disabled,\n",
              "  .colab-df-quickchart-complete:disabled:hover {\n",
              "    background-color: var(--disabled-bg-color);\n",
              "    fill: var(--disabled-fill-color);\n",
              "    box-shadow: none;\n",
              "  }\n",
              "\n",
              "  .colab-df-spinner {\n",
              "    border: 2px solid var(--fill-color);\n",
              "    border-color: transparent;\n",
              "    border-bottom-color: var(--fill-color);\n",
              "    animation:\n",
              "      spin 1s steps(1) infinite;\n",
              "  }\n",
              "\n",
              "  @keyframes spin {\n",
              "    0% {\n",
              "      border-color: transparent;\n",
              "      border-bottom-color: var(--fill-color);\n",
              "      border-left-color: var(--fill-color);\n",
              "    }\n",
              "    20% {\n",
              "      border-color: transparent;\n",
              "      border-left-color: var(--fill-color);\n",
              "      border-top-color: var(--fill-color);\n",
              "    }\n",
              "    30% {\n",
              "      border-color: transparent;\n",
              "      border-left-color: var(--fill-color);\n",
              "      border-top-color: var(--fill-color);\n",
              "      border-right-color: var(--fill-color);\n",
              "    }\n",
              "    40% {\n",
              "      border-color: transparent;\n",
              "      border-right-color: var(--fill-color);\n",
              "      border-top-color: var(--fill-color);\n",
              "    }\n",
              "    60% {\n",
              "      border-color: transparent;\n",
              "      border-right-color: var(--fill-color);\n",
              "    }\n",
              "    80% {\n",
              "      border-color: transparent;\n",
              "      border-right-color: var(--fill-color);\n",
              "      border-bottom-color: var(--fill-color);\n",
              "    }\n",
              "    90% {\n",
              "      border-color: transparent;\n",
              "      border-bottom-color: var(--fill-color);\n",
              "    }\n",
              "  }\n",
              "</style>\n",
              "\n",
              "  <script>\n",
              "    async function quickchart(key) {\n",
              "      const quickchartButtonEl =\n",
              "        document.querySelector('#' + key + ' button');\n",
              "      quickchartButtonEl.disabled = true;  // To prevent multiple clicks.\n",
              "      quickchartButtonEl.classList.add('colab-df-spinner');\n",
              "      try {\n",
              "        const charts = await google.colab.kernel.invokeFunction(\n",
              "            'suggestCharts', [key], {});\n",
              "      } catch (error) {\n",
              "        console.error('Error during call to suggestCharts:', error);\n",
              "      }\n",
              "      quickchartButtonEl.classList.remove('colab-df-spinner');\n",
              "      quickchartButtonEl.classList.add('colab-df-quickchart-complete');\n",
              "    }\n",
              "    (() => {\n",
              "      let quickchartButtonEl =\n",
              "        document.querySelector('#df-c8cb59f1-0784-44d1-aece-2f48ef3e99d0 button');\n",
              "      quickchartButtonEl.style.display =\n",
              "        google.colab.kernel.accessAllowed ? 'block' : 'none';\n",
              "    })();\n",
              "  </script>\n",
              "</div>\n",
              "\n",
              "    </div>\n",
              "  </div>\n"
            ],
            "application/vnd.google.colaboratory.intrinsic+json": {
              "type": "dataframe",
              "variable_name": "df",
              "summary": "{\n  \"name\": \"df\",\n  \"rows\": 16534,\n  \"fields\": [\n    {\n      \"column\": \"work_year\",\n      \"properties\": {\n        \"dtype\": \"number\",\n        \"std\": 0,\n        \"min\": 2020,\n        \"max\": 2024,\n        \"num_unique_values\": 5,\n        \"samples\": [\n          2022,\n          2021,\n          2023\n        ],\n        \"semantic_type\": \"\",\n        \"description\": \"\"\n      }\n    },\n    {\n      \"column\": \"experience_level\",\n      \"properties\": {\n        \"dtype\": \"number\",\n        \"std\": 0,\n        \"min\": 0,\n        \"max\": 3,\n        \"num_unique_values\": 4,\n        \"samples\": [\n          2,\n          1,\n          3\n        ],\n        \"semantic_type\": \"\",\n        \"description\": \"\"\n      }\n    },\n    {\n      \"column\": \"employment_type\",\n      \"properties\": {\n        \"dtype\": \"number\",\n        \"std\": 0,\n        \"min\": 0,\n        \"max\": 3,\n        \"num_unique_values\": 4,\n        \"samples\": [\n          0,\n          1,\n          2\n        ],\n        \"semantic_type\": \"\",\n        \"description\": \"\"\n      }\n    },\n    {\n      \"column\": \"job_title\",\n      \"properties\": {\n        \"dtype\": \"number\",\n        \"std\": 35,\n        \"min\": 0,\n        \"max\": 154,\n        \"num_unique_values\": 155,\n        \"samples\": [\n          77,\n          22,\n          53\n        ],\n        \"semantic_type\": \"\",\n        \"description\": \"\"\n      }\n    },\n    {\n      \"column\": \"salary_currency\",\n      \"properties\": {\n        \"dtype\": \"number\",\n        \"std\": 3,\n        \"min\": 0,\n        \"max\": 22,\n        \"num_unique_values\": 23,\n        \"samples\": [\n          12,\n          15,\n          21\n        ],\n        \"semantic_type\": \"\",\n        \"description\": \"\"\n      }\n    },\n    {\n      \"column\": \"salary_in_usd\",\n      \"properties\": {\n        \"dtype\": \"number\",\n        \"std\": 62785.432268193676,\n        \"min\": 15000.0,\n        \"max\": 313062.5,\n        \"num_unique_values\": 2836,\n        \"samples\": [\n          46000.0,\n          205670.0,\n          64574.0\n        ],\n        \"semantic_type\": \"\",\n        \"description\": \"\"\n      }\n    },\n    {\n      \"column\": \"employee_residence\",\n      \"properties\": {\n        \"dtype\": \"number\",\n        \"std\": 18,\n        \"min\": 0,\n        \"max\": 87,\n        \"num_unique_values\": 88,\n        \"samples\": [\n          69,\n          84,\n          75\n        ],\n        \"semantic_type\": \"\",\n        \"description\": \"\"\n      }\n    },\n    {\n      \"column\": \"remote_ratio\",\n      \"properties\": {\n        \"dtype\": \"number\",\n        \"std\": 46,\n        \"min\": 0,\n        \"max\": 100,\n        \"num_unique_values\": 3,\n        \"samples\": [\n          0,\n          100,\n          50\n        ],\n        \"semantic_type\": \"\",\n        \"description\": \"\"\n      }\n    },\n    {\n      \"column\": \"company_location\",\n      \"properties\": {\n        \"dtype\": \"number\",\n        \"std\": 16,\n        \"min\": 0,\n        \"max\": 76,\n        \"num_unique_values\": 77,\n        \"samples\": [\n          55,\n          22,\n          3\n        ],\n        \"semantic_type\": \"\",\n        \"description\": \"\"\n      }\n    },\n    {\n      \"column\": \"company_size\",\n      \"properties\": {\n        \"dtype\": \"number\",\n        \"std\": 0,\n        \"min\": 0,\n        \"max\": 2,\n        \"num_unique_values\": 3,\n        \"samples\": [\n          1,\n          0,\n          2\n        ],\n        \"semantic_type\": \"\",\n        \"description\": \"\"\n      }\n    }\n  ]\n}"
            }
          },
          "metadata": {},
          "execution_count": 95
        }
      ]
    },
    {
      "cell_type": "markdown",
      "source": [
        "Yukarıdaki kod, metinsel verileri LabelEncoder kullanarak sayısal verilere dönüştürmemizi sağlar."
      ],
      "metadata": {
        "id": "GEcMzHntJTTy"
      }
    },
    {
      "source": [
        "df.info()"
      ],
      "cell_type": "code",
      "metadata": {
        "id": "nqSLpxggwOfm",
        "colab": {
          "base_uri": "https://localhost:8080/"
        },
        "outputId": "b42e7383-fd0e-4fff-8916-64431da34e20"
      },
      "execution_count": null,
      "outputs": [
        {
          "output_type": "stream",
          "name": "stdout",
          "text": [
            "<class 'pandas.core.frame.DataFrame'>\n",
            "RangeIndex: 16534 entries, 0 to 16533\n",
            "Data columns (total 10 columns):\n",
            " #   Column              Non-Null Count  Dtype  \n",
            "---  ------              --------------  -----  \n",
            " 0   work_year           16534 non-null  int64  \n",
            " 1   experience_level    16534 non-null  int64  \n",
            " 2   employment_type     16534 non-null  int64  \n",
            " 3   job_title           16534 non-null  int64  \n",
            " 4   salary_currency     16534 non-null  int64  \n",
            " 5   salary_in_usd       16534 non-null  float64\n",
            " 6   employee_residence  16534 non-null  int64  \n",
            " 7   remote_ratio        16534 non-null  int64  \n",
            " 8   company_location    16534 non-null  int64  \n",
            " 9   company_size        16534 non-null  int64  \n",
            "dtypes: float64(1), int64(9)\n",
            "memory usage: 1.3 MB\n"
          ]
        }
      ]
    },
    {
      "cell_type": "code",
      "source": [
        "X=df.drop(\"salary_in_usd\" ,axis=1)\n",
        "y=df[\"salary_in_usd\"]\n",
        "\n",
        "X_train,X_test,y_train,y_test=train_test_split(X,y,test_size=0.2,random_state=42)\n"
      ],
      "metadata": {
        "id": "iSkn9VTsk8WT"
      },
      "execution_count": null,
      "outputs": []
    },
    {
      "cell_type": "markdown",
      "source": [
        "Yukarıdaki kodda bağımlı ve bağımsız değişkenler oluşturulur ve train_test_split ile tüm verilerin %20'sini test boyutu olarak ayarlanır."
      ],
      "metadata": {
        "id": "RXyqcccNJuja"
      }
    },
    {
      "cell_type": "code",
      "source": [
        "model=LinearRegression()\n",
        "model.fit(X_train,y_train)\n",
        "\n"
      ],
      "metadata": {
        "colab": {
          "base_uri": "https://localhost:8080/",
          "height": 74
        },
        "id": "wzcIRzpklzLO",
        "outputId": "9fe61447-ca79-4b27-d31e-679b47f30818"
      },
      "execution_count": null,
      "outputs": [
        {
          "output_type": "execute_result",
          "data": {
            "text/plain": [
              "LinearRegression()"
            ],
            "text/html": [
              "<style>#sk-container-id-6 {color: black;background-color: white;}#sk-container-id-6 pre{padding: 0;}#sk-container-id-6 div.sk-toggleable {background-color: white;}#sk-container-id-6 label.sk-toggleable__label {cursor: pointer;display: block;width: 100%;margin-bottom: 0;padding: 0.3em;box-sizing: border-box;text-align: center;}#sk-container-id-6 label.sk-toggleable__label-arrow:before {content: \"▸\";float: left;margin-right: 0.25em;color: #696969;}#sk-container-id-6 label.sk-toggleable__label-arrow:hover:before {color: black;}#sk-container-id-6 div.sk-estimator:hover label.sk-toggleable__label-arrow:before {color: black;}#sk-container-id-6 div.sk-toggleable__content {max-height: 0;max-width: 0;overflow: hidden;text-align: left;background-color: #f0f8ff;}#sk-container-id-6 div.sk-toggleable__content pre {margin: 0.2em;color: black;border-radius: 0.25em;background-color: #f0f8ff;}#sk-container-id-6 input.sk-toggleable__control:checked~div.sk-toggleable__content {max-height: 200px;max-width: 100%;overflow: auto;}#sk-container-id-6 input.sk-toggleable__control:checked~label.sk-toggleable__label-arrow:before {content: \"▾\";}#sk-container-id-6 div.sk-estimator input.sk-toggleable__control:checked~label.sk-toggleable__label {background-color: #d4ebff;}#sk-container-id-6 div.sk-label input.sk-toggleable__control:checked~label.sk-toggleable__label {background-color: #d4ebff;}#sk-container-id-6 input.sk-hidden--visually {border: 0;clip: rect(1px 1px 1px 1px);clip: rect(1px, 1px, 1px, 1px);height: 1px;margin: -1px;overflow: hidden;padding: 0;position: absolute;width: 1px;}#sk-container-id-6 div.sk-estimator {font-family: monospace;background-color: #f0f8ff;border: 1px dotted black;border-radius: 0.25em;box-sizing: border-box;margin-bottom: 0.5em;}#sk-container-id-6 div.sk-estimator:hover {background-color: #d4ebff;}#sk-container-id-6 div.sk-parallel-item::after {content: \"\";width: 100%;border-bottom: 1px solid gray;flex-grow: 1;}#sk-container-id-6 div.sk-label:hover label.sk-toggleable__label {background-color: #d4ebff;}#sk-container-id-6 div.sk-serial::before {content: \"\";position: absolute;border-left: 1px solid gray;box-sizing: border-box;top: 0;bottom: 0;left: 50%;z-index: 0;}#sk-container-id-6 div.sk-serial {display: flex;flex-direction: column;align-items: center;background-color: white;padding-right: 0.2em;padding-left: 0.2em;position: relative;}#sk-container-id-6 div.sk-item {position: relative;z-index: 1;}#sk-container-id-6 div.sk-parallel {display: flex;align-items: stretch;justify-content: center;background-color: white;position: relative;}#sk-container-id-6 div.sk-item::before, #sk-container-id-6 div.sk-parallel-item::before {content: \"\";position: absolute;border-left: 1px solid gray;box-sizing: border-box;top: 0;bottom: 0;left: 50%;z-index: -1;}#sk-container-id-6 div.sk-parallel-item {display: flex;flex-direction: column;z-index: 1;position: relative;background-color: white;}#sk-container-id-6 div.sk-parallel-item:first-child::after {align-self: flex-end;width: 50%;}#sk-container-id-6 div.sk-parallel-item:last-child::after {align-self: flex-start;width: 50%;}#sk-container-id-6 div.sk-parallel-item:only-child::after {width: 0;}#sk-container-id-6 div.sk-dashed-wrapped {border: 1px dashed gray;margin: 0 0.4em 0.5em 0.4em;box-sizing: border-box;padding-bottom: 0.4em;background-color: white;}#sk-container-id-6 div.sk-label label {font-family: monospace;font-weight: bold;display: inline-block;line-height: 1.2em;}#sk-container-id-6 div.sk-label-container {text-align: center;}#sk-container-id-6 div.sk-container {/* jupyter's `normalize.less` sets `[hidden] { display: none; }` but bootstrap.min.css set `[hidden] { display: none !important; }` so we also need the `!important` here to be able to override the default hidden behavior on the sphinx rendered scikit-learn.org. See: https://github.com/scikit-learn/scikit-learn/issues/21755 */display: inline-block !important;position: relative;}#sk-container-id-6 div.sk-text-repr-fallback {display: none;}</style><div id=\"sk-container-id-6\" class=\"sk-top-container\"><div class=\"sk-text-repr-fallback\"><pre>LinearRegression()</pre><b>In a Jupyter environment, please rerun this cell to show the HTML representation or trust the notebook. <br />On GitHub, the HTML representation is unable to render, please try loading this page with nbviewer.org.</b></div><div class=\"sk-container\" hidden><div class=\"sk-item\"><div class=\"sk-estimator sk-toggleable\"><input class=\"sk-toggleable__control sk-hidden--visually\" id=\"sk-estimator-id-6\" type=\"checkbox\" checked><label for=\"sk-estimator-id-6\" class=\"sk-toggleable__label sk-toggleable__label-arrow\">LinearRegression</label><div class=\"sk-toggleable__content\"><pre>LinearRegression()</pre></div></div></div></div></div>"
            ]
          },
          "metadata": {},
          "execution_count": 98
        }
      ]
    },
    {
      "cell_type": "markdown",
      "source": [
        "\"Yukarıdaki kod, LinearRegression sınıfından bir model oluşturuluyor. Oluşturulan model X_train ve y_train verilerini kullanarak eğitiliyor."
      ],
      "metadata": {
        "id": "2XinbpC5KTgL"
      }
    },
    {
      "cell_type": "code",
      "source": [
        "y_pred = model.predict(X_test)\n",
        "mae = mean_absolute_error(y_test,y_pred)\n",
        "mse = mean_squared_error(y_test, y_pred)\n",
        "rmse = np.sqrt(mse)\n",
        "\n",
        "\n",
        "\n",
        "\n",
        "print('Karekök Ortalama Kare Hatası (RMSE):', rmse)\n",
        "print('Ortalama Kare Hatası (MSE):', mse)\n",
        "print(\"Ortalama Mutlak Değerlerinin  hatası:\", mae)\n",
        "\n"
      ],
      "metadata": {
        "colab": {
          "base_uri": "https://localhost:8080/"
        },
        "id": "xtkQLj02l52U",
        "outputId": "ad94652d-b18c-4faf-fedc-41fc72f51aa5"
      },
      "execution_count": null,
      "outputs": [
        {
          "output_type": "stream",
          "name": "stdout",
          "text": [
            "Karekök Ortalama Kare Hatası (RMSE): 56386.38739216246\n",
            "Ortalama Kare Hatası (MSE): 3179424683.139018\n",
            "Ortalama Mutlak Değerlerinin  hatası: 44685.61049747448\n"
          ]
        }
      ]
    },
    {
      "cell_type": "markdown",
      "source": [
        "Yukarıdaki kod, eğitilmiş modelimiz olan model kullanılarak X_test verileri üzerinde tahminler yapılır ve bunları y_pred değişkeninde saklar.\n",
        "Ekran Çıktılarında ise hata miktarlarını vermektedir."
      ],
      "metadata": {
        "id": "RprgCl0B_xKe"
      }
    },
    {
      "cell_type": "code",
      "source": [
        "data = pd.DataFrame(\n",
        "    {'work_year': [2024], 'experience_level': [3], 'employment_type': [2], 'job_title': [3], 'salary_currency': [3], 'employee_residence': [84], 'remote_ratio': [3], 'company_location': [1], 'company_size': [0]}\n",
        ")\n",
        "tahmin_maas=model.predict(data)\n",
        "print(\"Tahmini maas: \",tahmin_maas)\n",
        "\n",
        "\n",
        "\n"
      ],
      "metadata": {
        "colab": {
          "base_uri": "https://localhost:8080/"
        },
        "id": "YiQ_gdfaslBX",
        "outputId": "f6455e3a-27eb-4bba-f2f5-3cbe954242fd"
      },
      "execution_count": null,
      "outputs": [
        {
          "output_type": "stream",
          "name": "stdout",
          "text": [
            "Tahmini maas:  [80115.83996056]\n"
          ]
        }
      ]
    },
    {
      "cell_type": "markdown",
      "source": [
        "Yukarıdaki kod, önceden hazırlanmış tahmin edilecek veriler data değişkenine atanır. Ardından bu veriler, modele verilerek maaş tahmini yapılır. Örnek bir ekran çıktısında görüldüğü gibi, tahmini maaş 'usd' cinsinden 65.520 dolardır."
      ],
      "metadata": {
        "id": "NiKKk9p0LhcA"
      }
    },
    {
      "cell_type": "markdown",
      "source": [
        "https://youtu.be/jsFWm1nYycs?feature=shared"
      ],
      "metadata": {
        "id": "KTIW9uLa4ZDi"
      }
    },
    {
      "cell_type": "markdown",
      "source": [
        "***Yunus Emre Kökboyu***"
      ],
      "metadata": {
        "id": "KOED_1UNN-bW"
      }
    }
  ]
}